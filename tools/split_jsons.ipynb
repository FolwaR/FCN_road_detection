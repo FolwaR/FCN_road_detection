{
 "cells": [
  {
   "cell_type": "markdown",
   "metadata": {},
   "source": [
    "**Łukasz Folwarczyk**\n",
    "\n",
    "*\"Badanie i implementacja algorytmów detekcji drogi przy wykorzystaniu cyfrowego przetwarzania obrazów.\"*\n",
    "\n",
    "---"
   ]
  },
  {
   "cell_type": "markdown",
   "metadata": {},
   "source": [
    "# Split jsons\n",
    "\n",
    "\n",
    "Notatnik pozwalający na podzielenie plików JSON (zawierających obraz, etykietę oraz wizualizację) znajdujących się w katalogu wejściowym na podkatalogi - train, valid oraz test. Działanie modułu opisane zostało w paragrafie 4.3."
   ]
  },
  {
   "cell_type": "code",
   "execution_count": 11,
   "metadata": {},
   "outputs": [],
   "source": [
    "import os\n",
    "import sys\n",
    "from random import shuffle\n",
    "import math\n",
    "import shutil"
   ]
  },
  {
   "cell_type": "code",
   "execution_count": 12,
   "metadata": {},
   "outputs": [],
   "source": [
    "jsons_dir = 'park_jsons_all'                                    # nazwa katalogu wejściowego\n",
    "jsons_path = '../../Dataset/' + jsons_dir + '/'\n",
    "\n",
    "train_json_path_new = './' + 'train_jsons/'                     # nazwa katalogu wyjściowego - zbiór treningowy\n",
    "valid_json_path_new = './' + 'valid_jsons/'                     # nazwa katalogu wyjściowego - zbiór walidacyjny\n",
    "test_json_path_new = './' + 'test_jsons/'                       # nazwa katalogu wyjściowego - zbiór testowy\n",
    "\n",
    "if not os.path.exists(train_json_path_new):                     # stworzenie katalogu dla zbioru treningowego \n",
    "    os.mkdir(train_json_path_new)                 \n",
    "\n",
    "if not os.path.exists(valid_json_path_new):                     # stworzenie katalogu dla zbioru walidacyjnego \n",
    "    os.mkdir(valid_json_path_new)\n",
    "\n",
    "if not os.path.exists(test_json_path_new):                      # stworzenie katalogu dla zbioru testowego \n",
    "    os.mkdir(test_json_path_new)"
   ]
  },
  {
   "cell_type": "code",
   "execution_count": 13,
   "metadata": {},
   "outputs": [],
   "source": [
    "json_files_list = os.listdir(jsons_path)                        # pobranie nazw plików json\n",
    "shuffle(json_files_list)                                        # pliki json wybierane są losowo\n",
    "json_files_path_input = [jsons_path + i for i                   # określenie pełnej ścieżki plików json\n",
    "                         in json_files_list]\n",
    "shuffle(json_files_path_input)                                  # pliki json wybierane są losowo"
   ]
  },
  {
   "cell_type": "code",
   "execution_count": 14,
   "metadata": {},
   "outputs": [
    {
     "name": "stdout",
     "output_type": "stream",
     "text": [
      "551\n"
     ]
    }
   ],
   "source": [
    "print(len(json_files_path_input))"
   ]
  },
  {
   "cell_type": "code",
   "execution_count": 5,
   "metadata": {},
   "outputs": [],
   "source": [
    "train_len = int(round((len(json_files_path_input) * 70) / 100)) # zbior treningowy = 70 zbioru danych\n",
    "valid_len = int(round((len(json_files_path_input) * 10) / 100)) # zbior walidacyjny = 10 zbioru danych \n",
    "test_len = int(round((len(json_files_path_input) * 20) / 100))  # zbior testowy = 20 zbioru danych "
   ]
  },
  {
   "cell_type": "code",
   "execution_count": 6,
   "metadata": {},
   "outputs": [
    {
     "name": "stdout",
     "output_type": "stream",
     "text": [
      "386\n",
      "55\n",
      "110\n",
      "551\n"
     ]
    }
   ],
   "source": [
    "print(train_len)\n",
    "print(valid_len)\n",
    "print(test_len)\n",
    "print(train_len + valid_len + test_len)"
   ]
  },
  {
   "cell_type": "code",
   "execution_count": 7,
   "metadata": {},
   "outputs": [],
   "source": [
    "train_json_path_old = json_files_path_input[0:train_len]                         # wyznaczenie nazw plików\n",
    "                                                                                 # dla zbioru treningowego \n",
    "\n",
    "valid_json_path_old = json_files_path_input[train_len:                           # wyznaczenie nazw plików \n",
    "                                            (train_len + valid_len)]             # dla zbioru walidacyjnego\n",
    "\n",
    "test_json_path_old = json_files_path_input[(train_len + valid_len):              # wyznaczenie nazw plików \n",
    "                                           ((train_len + valid_len) + test_len)] # dla zbioru testowego"
   ]
  },
  {
   "cell_type": "code",
   "execution_count": 8,
   "metadata": {},
   "outputs": [],
   "source": [
    "for i in range(train_len):                                      # skopiowanie plików ze zbioru danych do podzbioru \n",
    "    json_filename = (train_json_path_old[i].split('/'))[-1]     # treningowego\n",
    "    json_new_path = train_json_path_new + json_filename\n",
    "    shutil.copy2(train_json_path_old[i], json_new_path)"
   ]
  },
  {
   "cell_type": "code",
   "execution_count": 9,
   "metadata": {},
   "outputs": [],
   "source": [
    "for i in range(valid_len):                                      # skopiowanie plików ze zbioru danych do podzbioru \n",
    "    json_filename = (valid_json_path_old[i].split('/'))[-1]     # walidacyjnego \n",
    "    json_new_path = valid_json_path_new + json_filename\n",
    "    shutil.copy2(valid_json_path_old[i], json_new_path)"
   ]
  },
  {
   "cell_type": "code",
   "execution_count": 10,
   "metadata": {},
   "outputs": [],
   "source": [
    "for i in range(test_len):                                       # skopiowanie plików ze zbioru danych do podzbioru\n",
    "    json_filename = (test_json_path_old[i].split('/'))[-1]      # testowego\n",
    "    json_new_path = test_json_path_new + json_filename\n",
    "    shutil.copy2(test_json_path_old[i], json_new_path)"
   ]
  },
  {
   "cell_type": "code",
   "execution_count": null,
   "metadata": {},
   "outputs": [],
   "source": []
  }
 ],
 "metadata": {
  "kernelspec": {
   "display_name": "Python 3",
   "language": "python",
   "name": "python3"
  },
  "language_info": {
   "codemirror_mode": {
    "name": "ipython",
    "version": 3
   },
   "file_extension": ".py",
   "mimetype": "text/x-python",
   "name": "python",
   "nbconvert_exporter": "python",
   "pygments_lexer": "ipython3",
   "version": "3.6.4"
  }
 },
 "nbformat": 4,
 "nbformat_minor": 2
}

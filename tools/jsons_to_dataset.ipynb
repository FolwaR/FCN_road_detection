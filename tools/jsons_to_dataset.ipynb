{
 "cells": [
  {
   "cell_type": "markdown",
   "metadata": {},
   "source": [
    "**Łukasz Folwarczyk**\n",
    "\n",
    "*\"Badanie i implementacja algorytmów detekcji drogi przy wykorzystaniu cyfrowego przetwarzania obrazów.\"*\n",
    "\n",
    "---"
   ]
  },
  {
   "cell_type": "markdown",
   "metadata": {},
   "source": [
    "# Jsons to dataset\n",
    "\n",
    "\n",
    "Notatnik pozwalający na odtworzenie zdjęć oraz ich etykiet z pliku JSON. Działanie modułu opisane zostało w paragrafie 4.3."
   ]
  },
  {
   "cell_type": "markdown",
   "metadata": {},
   "source": [
    " "
   ]
  },
  {
   "cell_type": "code",
   "execution_count": 1,
   "metadata": {},
   "outputs": [],
   "source": [
    "import argparse\n",
    "import json\n",
    "import os\n",
    "import os.path as osp\n",
    "from IPython.display import clear_output\n",
    "import PIL.Image\n",
    "from labelme import utils"
   ]
  },
  {
   "cell_type": "code",
   "execution_count": 2,
   "metadata": {},
   "outputs": [],
   "source": [
    "def jsons_to_dataset(input_dir, output_dir):\n",
    "    \"\"\" \n",
    "    Opis:\n",
    "    ---\n",
    "    Funkcja pobiera jako argument nazwę katalogu, w którym zapisane \n",
    "    są pliki JSON. W każdym pliku JSON zapisany jest obraz + etykieta + \n",
    "    + wizualizacja (obraz z nałożoną etykieta). Funkcja odczytuje te \n",
    "    dane i na ich podstawie tworzy trzy pliki z rozszerzeniem png.\n",
    "    \n",
    "    Każdy plik zapisywnay jest w jednym z podkatalogów:\n",
    "    imgs - obrazy oryginalne\n",
    "    labels - etykiety\n",
    "    vizs - wizualizacje\n",
    "    \n",
    "    Podkatalogi tworzone są w katalogu, którego nazwa stanowi argument \n",
    "    (output_dir) funkcji.\n",
    "    \n",
    "    Argumenty:\n",
    "    ---\n",
    "        input_dir (string):     nazwa katalogu, w którym \n",
    "                                zapisane są pliki JSON\n",
    "        \n",
    "        input_files (string):   nazwa katalogu wynikowego\n",
    "\n",
    "    Return:\n",
    "    ---\n",
    "        None\n",
    "    \"\"\"\n",
    "    counter = 0\n",
    "    # odczytanie plików JSON z katalogu wejściowego\n",
    "    if input_dir[-1] != '/':\n",
    "        input_dir += '/'   \n",
    "    \n",
    "    if output_dir[-1] != '/':\n",
    "        output_dir += '/'   \n",
    "    \n",
    "    json_files_list = os.listdir(input_dir)\n",
    "    \n",
    "    # pętla wykonywana dla każdego z plików JSON\n",
    "    for i in json_files_list:\n",
    "        json_file = input_dir + i                                       # pełna ścieżka pliku JSON\n",
    "        data = json.load(open(json_file))                               # otworzenie pliku JSON\n",
    "        img = utils.img_b64_to_array(data['imageData'])                 # odtworzenie obrazu oryginalnego\n",
    "        label, label_names = utils.labelme_shapes_to_label(img.shape,   # odtworzenie etykiety\n",
    "                                                       data['shapes'])\n",
    "        classes = ['%d: %s' % (l, name) for l,                          # klasy występujące w etykiecie\n",
    "                    name in enumerate(label_names)]\n",
    "        label_viz = utils.draw_label(label, img, classes)               # odtworzenie wizualizacji\n",
    "\n",
    "        imgs_path = os.getcwd() + '/' + output_dir + '/imgs/'           # katalog wyjściowy obrazu\n",
    "        labels_path = os.getcwd() + '/' + output_dir + '/labels/'       # katalog wyjściowy etykiety\n",
    "        labels_path_viz = os.getcwd() + '/' + output_dir + '/vizs/'     # katalog wyjściowy wizualizacji\n",
    "\n",
    "        # stworzenie katalogów wyjściowych \n",
    "        if not osp.exists(output_dir):\n",
    "            os.mkdir(output_dir)\n",
    "            \n",
    "        if not osp.exists(imgs_path):\n",
    "            os.mkdir(imgs_path)\n",
    "\n",
    "        if not osp.exists(labels_path):\n",
    "            os.mkdir(labels_path)\n",
    "\n",
    "        if not osp.exists(labels_path_viz):\n",
    "            os.mkdir(labels_path_viz)\n",
    "\n",
    "        # nazwa pliku png (jednakowa dla obrazu, etykiety oraz wizualizacji)\n",
    "        imgae_path_split = data['imagePath'].split('/')\n",
    "        image_name = imgae_path_split[-1]\n",
    "        image_name = image_name[:-4] + '.png'\n",
    "        \n",
    "        # ścieżki plików png\n",
    "        img_path = imgs_path + image_name\n",
    "        label_path = labels_path + image_name\n",
    "        viz_path = labels_path_viz + image_name\n",
    "        \n",
    "        # zapisanie plików png\n",
    "        PIL.Image.fromarray(img).save(img_path)\n",
    "        PIL.Image.fromarray(label).save(label_path)\n",
    "        PIL.Image.fromarray(label_viz).save(viz_path)\n",
    "\n",
    "        counter += 1\n",
    "        clear_output()\n",
    "        print('Zapisanych: {}/{}'.format(counter, len(json_files_list)))"
   ]
  },
  {
   "cell_type": "markdown",
   "metadata": {},
   "source": [
    "# Przykład"
   ]
  },
  {
   "cell_type": "code",
   "execution_count": 3,
   "metadata": {},
   "outputs": [],
   "source": [
    "jsons_path = './JSON_example/input'\n",
    "output_path =  './JSON_example/output'"
   ]
  },
  {
   "cell_type": "code",
   "execution_count": 4,
   "metadata": {},
   "outputs": [
    {
     "name": "stdout",
     "output_type": "stream",
     "text": [
      "Zapisanych: 3/3\n"
     ]
    }
   ],
   "source": [
    "jsons_to_dataset(jsons_path, output_path)"
   ]
  },
  {
   "cell_type": "code",
   "execution_count": null,
   "metadata": {},
   "outputs": [],
   "source": []
  }
 ],
 "metadata": {
  "kernelspec": {
   "display_name": "Python 3",
   "language": "python",
   "name": "python3"
  },
  "language_info": {
   "codemirror_mode": {
    "name": "ipython",
    "version": 3
   },
   "file_extension": ".py",
   "mimetype": "text/x-python",
   "name": "python",
   "nbconvert_exporter": "python",
   "pygments_lexer": "ipython3",
   "version": "3.6.4"
  }
 },
 "nbformat": 4,
 "nbformat_minor": 2
}

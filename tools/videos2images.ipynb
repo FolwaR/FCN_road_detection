{
 "cells": [
  {
   "cell_type": "markdown",
   "metadata": {},
   "source": [
    "**Łukasz Folwarczyk**\n",
    "\n",
    "*\"Badanie i implementacja algorytmów detekcji drogi przy wykorzystaniu cyfrowego przetwarzania obrazów.\"*\n",
    "\n",
    "---"
   ]
  },
  {
   "cell_type": "markdown",
   "metadata": {},
   "source": [
    "# Videos to images\n",
    "\n",
    "\n",
    "Notatnik implementujący funkcję pozwalająca na wyłuskanie z materiału wideo pojedynczych klatek (zdjęć) wykorzystanych do procesu uczenia głebokiej sieci neuronowej. Działanie modułu opisane zostało w paragrafie 4.3.\n",
    "\n",
    "\n"
   ]
  },
  {
   "cell_type": "markdown",
   "metadata": {},
   "source": [
    "  \n",
    "  \n",
    "  \n",
    "  "
   ]
  },
  {
   "cell_type": "code",
   "execution_count": null,
   "metadata": {},
   "outputs": [],
   "source": [
    "import os\n",
    "import cv2\n",
    "import subprocess\n",
    "import argparse\n",
    "import time"
   ]
  },
  {
   "cell_type": "code",
   "execution_count": null,
   "metadata": {},
   "outputs": [],
   "source": [
    "def video2images(input_dir, output_dir, video_exts, out_shape = None):\n",
    "    \"\"\" \n",
    "    Opis:\n",
    "    ---\n",
    "    Funkcja konwertuje materiał wideo, zlokalizowany w katalogu input_dir \n",
    "    na serię zdjęć i zapisuje w katalogu o nazwie takiej jak nazwa filmu \n",
    "    w katalogu output_dir. Jeżeli w katalogu input_dir znajduję się n \n",
    "    materiałów wideo, wówczas w katalogu output_dir powstanie n katalogów, \n",
    "    ze zdjęciami zwiazanymi z danym materiałem wideo. Zdjęcia zapisywane \n",
    "    są w formacje jpg.    \n",
    "    \n",
    "    \n",
    "    Argumenty:\n",
    "    ---\n",
    "        input_dir (string):  nazwa katalogu wejściowego, \n",
    "                             zawierającego materiał wideo\n",
    "                            \n",
    "        output_dir (string): nazwa katalogu wyjściowego,\n",
    "                             w którym zapisane zostaną zdjęcia\n",
    "\n",
    "        video_exts (string): rozszerzenie materiału wideo\n",
    "        \n",
    "        out_shape (tuple):   rozmiar zdjęcia, jeżli None \n",
    "                             to równy rozmiarowi wideo\n",
    "\n",
    "\n",
    "    Return:\n",
    "    ---\n",
    "        None\n",
    "    \"\"\"\n",
    "    \n",
    "    if not os.path.exists(output_dir):               # stworzenie katalogu wyjściowego (jeśli nie istnieje)\n",
    "        os.makedirs(output_dir)\n",
    "\n",
    "    videos = os.listdir(input_dir)                   # wczytanie nazw plików wideo z katalogu wejściowego\n",
    "    video_counter = 0\n",
    "    imgs_counter = 0\n",
    "\n",
    "    # pobranie i zapisanie klatek pochodzących z każdego materiału wideo\n",
    "    for video in videos:\n",
    "        # klatki zapisywane są w katalogo o nazwie takiej samej jak nazwa pliku wideo (bez rozszerzenia)\n",
    "        if output_dir[-1] != '/':\n",
    "            img_out_dir = output_dir + '/' + (video[:-len(video_exts)]) + '/'\n",
    "        else:\n",
    "            img_out_dir = output_dir + (video[:-len(video_exts)])  + '/'\n",
    "        if not os.path.exists(img_out_dir):\n",
    "            os.makedirs(img_out_dir)\n",
    "\n",
    "        if video.lower().endswith(video_exts):\n",
    "            # wyznaczenie pełnej ścieżki do materiału wideo\n",
    "            if input_dir[-1] != '/':\n",
    "                input_video_file = input_dir + '/' + video\n",
    "            else:\n",
    "                input_video_file = input_dir + video\n",
    "            \n",
    "            # nazwa klatki = nazwa materiału wideo + numer pobranej klatki    \n",
    "            new_image_name = (video[:-len(video_exts)]) + \"-{0}.jpg\"\n",
    "\n",
    "            print(\"Konwersja wideo na zdjęcia...\")\n",
    "            print(\"Plik wideo: {0}\".format(input_video_file))\n",
    "            print(\"Powiązany katalog zdjęć: {0}\".format(img_out_dir))\n",
    "            \n",
    "            # odczytanie materiału wideo\n",
    "            vidcap = cv2.VideoCapture(input_video_file)\n",
    "            \n",
    "            # próba pobrania 1 klatki\n",
    "            success,image = vidcap.read()\n",
    "            counter1 = 0\n",
    "            counter2 = 0\n",
    "            \n",
    "            # jeśli próba pobrania klatki sie powiodła\n",
    "            while success:\n",
    "                if counter2 == 20:                                     # pobranie co 20 klatki    \n",
    "                    counter2 = 0                                       # (decyduje o ilość powstałych zdjęć)\n",
    "                    new_img_path = img_out_dir + new_image_name        # ścieżka + nazwa klatki \n",
    "                    if out_shape != None:\n",
    "                        image = cv2.resize(image, (out_shape))\n",
    "                    cv2.imwrite(new_img_path.format(counter1), image)  # zapisanie klatki \n",
    "                    imgs_counter += 1\n",
    "                    counter1 += 1\n",
    "                counter2 += 1\n",
    "                success,image = vidcap.read()                          # pobranie kolejnej klatki\n",
    "                \n",
    "            video_counter += 1\n",
    "            print()\n",
    "\n",
    "    print(\"Liczba przekonwertowanych wideo: {0}\".format(video_counter))\n",
    "    print(\"Liczba powstałych zdjęć: {0}\".format(imgs_counter))"
   ]
  },
  {
   "cell_type": "markdown",
   "metadata": {},
   "source": [
    "# Przykład"
   ]
  },
  {
   "cell_type": "code",
   "execution_count": null,
   "metadata": {},
   "outputs": [],
   "source": [
    "input_dir = r\"/media/lukasz/Dysk lokalny/MgrPliki/Dataset/park_filmy\"\n",
    "output_dir = r\"/media/lukasz/Dysk lokalny/MgrPliki/Dataset/example\"\n",
    "video_exts = \".mp4\""
   ]
  },
  {
   "cell_type": "code",
   "execution_count": null,
   "metadata": {
    "scrolled": false
   },
   "outputs": [],
   "source": [
    "video2images(input_dir, output_dir, video_exts)"
   ]
  }
 ],
 "metadata": {
  "kernelspec": {
   "display_name": "Python 3",
   "language": "python",
   "name": "python3"
  },
  "language_info": {
   "codemirror_mode": {
    "name": "ipython",
    "version": 3
   },
   "file_extension": ".py",
   "mimetype": "text/x-python",
   "name": "python",
   "nbconvert_exporter": "python",
   "pygments_lexer": "ipython3",
   "version": "3.6.4"
  }
 },
 "nbformat": 4,
 "nbformat_minor": 2
}
